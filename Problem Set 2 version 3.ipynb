{
 "cells": [
  {
   "cell_type": "markdown",
   "id": "front-zimbabwe",
   "metadata": {},
   "source": [
    "# Problem Set 2 version 3"
   ]
  },
  {
   "cell_type": "code",
   "execution_count": 1,
   "id": "broad-glance",
   "metadata": {},
   "outputs": [],
   "source": [
    "%matplotlib inline\n",
    "\n",
    "import numpy as np\n",
    "import pandas as pd\n",
    "import seaborn as sns\n",
    "import matplotlib.pyplot as plt\n",
    "import sklearn\n",
    "\n",
    "import warnings\n",
    "\n",
    "warnings.filterwarnings(action=\"ignore\")"
   ]
  },
  {
   "cell_type": "code",
   "execution_count": 2,
   "id": "advance-consultancy",
   "metadata": {},
   "outputs": [
    {
     "ename": "NameError",
     "evalue": "name 'df' is not defined",
     "output_type": "error",
     "traceback": [
      "\u001b[1;31m---------------------------------------------------------------------------\u001b[0m",
      "\u001b[1;31mNameError\u001b[0m                                 Traceback (most recent call last)",
      "\u001b[1;32m<ipython-input-2-2bcf973ac9e8>\u001b[0m in \u001b[0;36m<module>\u001b[1;34m\u001b[0m\n\u001b[0;32m      7\u001b[0m \u001b[0mdfm\u001b[0m \u001b[1;33m=\u001b[0m \u001b[0mdb\u001b[0m\u001b[1;33m.\u001b[0m\u001b[0mmerge\u001b[0m\u001b[1;33m(\u001b[0m\u001b[0mda\u001b[0m\u001b[1;33m,\u001b[0m \u001b[0mleft_index\u001b[0m\u001b[1;33m=\u001b[0m\u001b[1;32mTrue\u001b[0m\u001b[1;33m,\u001b[0m \u001b[0mright_index\u001b[0m\u001b[1;33m=\u001b[0m\u001b[1;32mTrue\u001b[0m\u001b[1;33m)\u001b[0m\u001b[1;33m\u001b[0m\u001b[1;33m\u001b[0m\u001b[0m\n\u001b[0;32m      8\u001b[0m \u001b[1;33m\u001b[0m\u001b[0m\n\u001b[1;32m----> 9\u001b[1;33m df = df.drop([ \n\u001b[0m\u001b[0;32m     10\u001b[0m  \u001b[1;34m\"abilities\"\u001b[0m\u001b[1;33m,\u001b[0m\u001b[1;33m\u001b[0m\u001b[1;33m\u001b[0m\u001b[0m\n\u001b[0;32m     11\u001b[0m  \u001b[1;34m\"attack\"\u001b[0m\u001b[1;33m,\u001b[0m\u001b[1;33m\u001b[0m\u001b[1;33m\u001b[0m\u001b[0m\n",
      "\u001b[1;31mNameError\u001b[0m: name 'df' is not defined"
     ]
    }
   ],
   "source": [
    "da = pd.read_csv(\"Pokemon1.csv\")\n",
    "db = pd.read_csv(\"Pokemon.csv\")\n",
    "\n",
    "da.set_index('name')\n",
    "db.set_index('Name')\n",
    "\n",
    "dfm = db.merge(da, left_index=True, right_index=True)\n",
    "\n",
    "df = df.drop([ \n",
    " \"abilities\",\n",
    " \"attack\",\n",
    " \"base_happiness\",\n",
    " \"base_total\",\n",
    " \"capture_rate\",\n",
    " \"experience_growth\",\n",
    " \"height_m\",\n",
    " \"hp\",\n",
    " \"percentage_male\",\n",
    " \"pokedex_number\",\n",
    "    \"japanese_name\",\n",
    " \"name\",\n",
    " \"sp_attack\",\n",
    " \"sp_defense\",\n",
    " \"speed\",\n",
    " \"type1\",\n",
    " \"type2\",\n",
    " \"weight_kg\",\n",
    " \"generation\",\n",
    " \"is_legendary\"\n",
    "    ],axis=1)"
   ]
  },
  {
   "cell_type": "markdown",
   "id": "differential-attitude",
   "metadata": {},
   "source": [
    "## PS 2.1 Number of Legendary Pokemon\n",
    "\n",
    "I just used the same code we used in the lesson."
   ]
  },
  {
   "cell_type": "code",
   "execution_count": 3,
   "id": "closing-recall",
   "metadata": {},
   "outputs": [
    {
     "name": "stdout",
     "output_type": "stream",
     "text": [
      "PS 2.1 Number of Legendary Pokemon\n"
     ]
    },
    {
     "ename": "NameError",
     "evalue": "name 'df' is not defined",
     "output_type": "error",
     "traceback": [
      "\u001b[1;31m---------------------------------------------------------------------------\u001b[0m",
      "\u001b[1;31mNameError\u001b[0m                                 Traceback (most recent call last)",
      "\u001b[1;32m<ipython-input-3-5f27289adc02>\u001b[0m in \u001b[0;36m<module>\u001b[1;34m\u001b[0m\n\u001b[0;32m      1\u001b[0m \u001b[0mprint\u001b[0m\u001b[1;33m(\u001b[0m\u001b[1;34m'PS 2.1 Number of Legendary Pokemon'\u001b[0m\u001b[1;33m)\u001b[0m\u001b[1;33m\u001b[0m\u001b[1;33m\u001b[0m\u001b[0m\n\u001b[1;32m----> 2\u001b[1;33m \u001b[0mlen\u001b[0m\u001b[1;33m(\u001b[0m\u001b[0mdf\u001b[0m\u001b[1;33m[\u001b[0m\u001b[0mdf\u001b[0m\u001b[1;33m.\u001b[0m\u001b[0misLegendary\u001b[0m \u001b[1;33m==\u001b[0m \u001b[1;32mTrue\u001b[0m\u001b[1;33m]\u001b[0m\u001b[1;33m)\u001b[0m\u001b[1;33m\u001b[0m\u001b[1;33m\u001b[0m\u001b[0m\n\u001b[0m",
      "\u001b[1;31mNameError\u001b[0m: name 'df' is not defined"
     ]
    }
   ],
   "source": [
    "print('PS 2.1 Number of Legendary Pokemon')\n",
    "len(df[df.isLegendary == True])"
   ]
  },
  {
   "cell_type": "markdown",
   "id": "banner-offer",
   "metadata": {},
   "source": [
    "## PS 2.2 Pokemon with the highest attack-to-HP ratio\n",
    "\n",
    "I made a column that had the computation for dividing attack by its HP to solve for its ratio"
   ]
  },
  {
   "cell_type": "code",
   "execution_count": null,
   "id": "compact-recommendation",
   "metadata": {},
   "outputs": [],
   "source": [
    "print('PS 2.2 Pokemon with the highest attack-to-HP ratio')\n",
    "\n",
    "df['AttHpRatio'] = df['attack']/df['hp']\n",
    "df[['name','AttHpRatio']].sort_values(by='AttHpRatio', ascending=False)"
   ]
  },
  {
   "cell_type": "markdown",
   "id": "persistent-biography",
   "metadata": {},
   "source": [
    "## PS 2.3 Binary classifier for whether Pokemon are Fire Type or not\n",
    "\n",
    "I tried different methods of making binary classifiers for the Types but I settled for this line of code since it was just one line."
   ]
  },
  {
   "cell_type": "code",
   "execution_count": null,
   "id": "outdoor-chinese",
   "metadata": {},
   "outputs": [],
   "source": [
    "df['isFire'] = (df['type1'] == 'fire') | (df['type2'] == 'fire')"
   ]
  },
  {
   "cell_type": "markdown",
   "id": "peripheral-karma",
   "metadata": {},
   "source": [
    "## PS 2.4 Attributes and stats of all Legendary Type pokemon using boxplots\n",
    "\n",
    "I used the code presented in one of the lecture notebooks"
   ]
  },
  {
   "cell_type": "code",
   "execution_count": null,
   "id": "northern-laundry",
   "metadata": {},
   "outputs": [],
   "source": [
    "print('PS 2.4 Attributes and stats of all Legendary Type pokemon using boxplots')\n",
    "plt.figure(figsize=(18,8))\n",
    "df3 = df[(df['isLegendary'] ==True)]\n",
    "df3 = df3[[\"Attack\", \"Defense\", \"Sp_Atk\", \"Sp_Def\", \"Speed\", \"Weight_kg\", \"Height_m\"]]\n",
    "sns.boxplot(data = df3)"
   ]
  },
  {
   "cell_type": "markdown",
   "id": "acknowledged-forest",
   "metadata": {},
   "source": [
    "## PS 2.5 Probability of each Pokemon being a Fire Type\n",
    "\n",
    "1) Identified the categorical variables and turned them all into binary columns <br/>\n",
    "2) Looked for the correlation of each feature <br/>\n",
    "3) Settled for the following features: <br/>\n",
    "    - \"Sp_Atk\", \"body_style_quadruped\", \"Color_Red\",'Color_Blue\" <br/>\n",
    "    - \"body_style_with_fins\"\n",
    "\n",
    "\\*however, I have not been able to justify certain features logically"
   ]
  },
  {
   "cell_type": "code",
   "execution_count": null,
   "id": "provincial-music",
   "metadata": {},
   "outputs": [],
   "source": [
    "col = pd.get_dummies(df.Color,prefix='Color')\n",
    "col2 = pd.get_dummies(df.Body_Style,prefix='body_style')\n",
    "col3 = pd.get_dummies(df.Egg_Group_1,prefix='Egg_Group')\n",
    "col4 = pd.get_dummies(df.classfication,prefix='class')\n",
    "df = df.join(col)\n",
    "df = df.join(col2)\n",
    "df = df.join(col3)\n",
    "df = df.join(col4)\n",
    "df.dtypes"
   ]
  }
 ],
 "metadata": {
  "kernelspec": {
   "display_name": "Python 3",
   "language": "python",
   "name": "python3"
  },
  "language_info": {
   "codemirror_mode": {
    "name": "ipython",
    "version": 3
   },
   "file_extension": ".py",
   "mimetype": "text/x-python",
   "name": "python",
   "nbconvert_exporter": "python",
   "pygments_lexer": "ipython3",
   "version": "3.9.0"
  }
 },
 "nbformat": 4,
 "nbformat_minor": 5
}
