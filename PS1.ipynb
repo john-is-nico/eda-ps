{
 "cells": [
  {
   "cell_type": "markdown",
   "metadata": {},
   "source": [
    "# Problem Set 1 CS129.18\n",
    "\n",
    "The following problem set will revolve around hourly Philippine weather data observations from 1978 to 2018 sourced from NOAA (National Oceanic and Atmospheric Administration). \n",
    "\n",
    "The dataset `PH_Weather_v1.csv` has **11** columns. The columns are described as follows.\n",
    "\n",
    "* **datetime** maps to a YYYYMMDDSSSS string datetime format.\n",
    "* **wind_direction** represents the recorded compass direction of the wind. \n",
    "* **wind_speed** is the wind speed recorded in MPH.\n",
    "* **gust_speed** is the gust speed recorded in MPH. NAN if no recording.\n",
    "* **sea_level_pressure** is sea level pressure in millibars estimated to the nearest tenth.\n",
    "* **temperature** is the recorded temperature in celsius.\n",
    "* **altitude** is the station altimeter recording in inches. NAN if no recording.\n",
    "* **precipitation** is the station hourly precipitation report in inches. NAN if no recording.\n",
    "* **clouds** is the station observed cloud report.\n",
    "    * CLR-CLEAR \n",
    "    * SCT-SCATTERED\n",
    "    * BKN-BROKEN\n",
    "    * OVC-OVERCAST, \n",
    "    * OBS-OBSCURED\n",
    "    * POB-PARTIAL OBSCURATION \n",
    "* **visibility** is the station observed visibility in miles\n",
    "* **humidity** is the station observed relative humidity"
   ]
  },
  {
   "cell_type": "markdown",
   "metadata": {},
   "source": [
    "## Requirements\n",
    "\n",
    "\n",
    ">Atmospheric Science is a complex system that works with factors that interact with each other. We might be able use these variables to estimate the value of one of the key indicators: Temperature.\n",
    "\n",
    "Using the lessons on Linear Regression I and II, and the other resource notebooks, show the following in this Jupyter Notebook.\n",
    "\n",
    "Write your answers down as Markdown cells or comments in the code.\n",
    "\n",
    "1. What is the dimensionality or shape of the data? ( 1pt )\n",
    "\n",
    "2. What is mean temperature for the year 2017? ( 3pts )\n",
    "\n",
    "3. Solve for the beta coefficients for the columns that you can use in your dataset to predict temperature. ( 4pts )\n",
    "\n",
    "4. Show the relationship between the variable with the highest beta coefficient and temperature (Use a plot). ( 5pts )\n",
    "\n",
    "5. Solve for the Mean Squared Error of your predicted temperature against the actual temperature. ( 2pts )\n",
    "\n",
    "6. Solve for the R^2 score of the linear model used to predict temperature. ( 2pts )\n",
    "\n",
    "7. Identify if the model is a good model and why. ( 3pts )\n",
    "\n",
    "\n",
    "\n",
    "-----"
   ]
  },
  {
   "cell_type": "code",
   "execution_count": 38,
   "metadata": {},
   "outputs": [],
   "source": [
    "%matplotlib inline\n",
    "\n",
    "import matplotlib.pylab as plt\n",
    "import numpy as np\n",
    "import pandas as pd\n",
    "from decimal import Decimal\n",
    "\n",
    "from sklearn.linear_model import LinearRegression"
   ]
  },
  {
   "cell_type": "code",
   "execution_count": 39,
   "metadata": {},
   "outputs": [],
   "source": [
    "df = pd.read_csv(\"data/PH_Weather_v1.csv\")"
   ]
  },
  {
   "cell_type": "code",
   "execution_count": 40,
   "metadata": {},
   "outputs": [
    {
     "data": {
      "text/html": [
       "<div>\n",
       "<style scoped>\n",
       "    .dataframe tbody tr th:only-of-type {\n",
       "        vertical-align: middle;\n",
       "    }\n",
       "\n",
       "    .dataframe tbody tr th {\n",
       "        vertical-align: top;\n",
       "    }\n",
       "\n",
       "    .dataframe thead th {\n",
       "        text-align: right;\n",
       "    }\n",
       "</style>\n",
       "<table border=\"1\" class=\"dataframe\">\n",
       "  <thead>\n",
       "    <tr style=\"text-align: right;\">\n",
       "      <th></th>\n",
       "      <th>datetime</th>\n",
       "      <th>wind_direction</th>\n",
       "      <th>wind_speed</th>\n",
       "      <th>gust_speed</th>\n",
       "      <th>sea_level_pressure</th>\n",
       "      <th>temperature</th>\n",
       "      <th>altitude</th>\n",
       "      <th>precipitation</th>\n",
       "      <th>clouds</th>\n",
       "      <th>visibility</th>\n",
       "      <th>humidity</th>\n",
       "    </tr>\n",
       "  </thead>\n",
       "  <tbody>\n",
       "    <tr>\n",
       "      <th>0</th>\n",
       "      <td>197809140300</td>\n",
       "      <td>160</td>\n",
       "      <td>2</td>\n",
       "      <td>NaN</td>\n",
       "      <td>1007.7</td>\n",
       "      <td>30</td>\n",
       "      <td>NaN</td>\n",
       "      <td>NaN</td>\n",
       "      <td>BKN</td>\n",
       "      <td>15.6</td>\n",
       "      <td>0.75</td>\n",
       "    </tr>\n",
       "    <tr>\n",
       "      <th>1</th>\n",
       "      <td>197810021500</td>\n",
       "      <td>0</td>\n",
       "      <td>0</td>\n",
       "      <td>NaN</td>\n",
       "      <td>1011.3</td>\n",
       "      <td>26</td>\n",
       "      <td>NaN</td>\n",
       "      <td>NaN</td>\n",
       "      <td>OVC</td>\n",
       "      <td>6.2</td>\n",
       "      <td>0.94</td>\n",
       "    </tr>\n",
       "    <tr>\n",
       "      <th>2</th>\n",
       "      <td>197810252100</td>\n",
       "      <td>360</td>\n",
       "      <td>9</td>\n",
       "      <td>NaN</td>\n",
       "      <td>1004.1</td>\n",
       "      <td>26</td>\n",
       "      <td>NaN</td>\n",
       "      <td>NaN</td>\n",
       "      <td>BKN</td>\n",
       "      <td>6.2</td>\n",
       "      <td>0.80</td>\n",
       "    </tr>\n",
       "    <tr>\n",
       "      <th>3</th>\n",
       "      <td>197810260000</td>\n",
       "      <td>360</td>\n",
       "      <td>21</td>\n",
       "      <td>NaN</td>\n",
       "      <td>1006.3</td>\n",
       "      <td>26</td>\n",
       "      <td>NaN</td>\n",
       "      <td>NaN</td>\n",
       "      <td>OVC</td>\n",
       "      <td>6.2</td>\n",
       "      <td>0.80</td>\n",
       "    </tr>\n",
       "    <tr>\n",
       "      <th>4</th>\n",
       "      <td>197811131500</td>\n",
       "      <td>0</td>\n",
       "      <td>0</td>\n",
       "      <td>NaN</td>\n",
       "      <td>1010.1</td>\n",
       "      <td>26</td>\n",
       "      <td>NaN</td>\n",
       "      <td>NaN</td>\n",
       "      <td>BKN</td>\n",
       "      <td>11.2</td>\n",
       "      <td>0.88</td>\n",
       "    </tr>\n",
       "  </tbody>\n",
       "</table>\n",
       "</div>"
      ],
      "text/plain": [
       "       datetime  wind_direction  wind_speed  gust_speed  sea_level_pressure  \\\n",
       "0  197809140300             160           2         NaN              1007.7   \n",
       "1  197810021500               0           0         NaN              1011.3   \n",
       "2  197810252100             360           9         NaN              1004.1   \n",
       "3  197810260000             360          21         NaN              1006.3   \n",
       "4  197811131500               0           0         NaN              1010.1   \n",
       "\n",
       "   temperature  altitude  precipitation clouds  visibility  humidity  \n",
       "0           30       NaN            NaN    BKN        15.6      0.75  \n",
       "1           26       NaN            NaN    OVC         6.2      0.94  \n",
       "2           26       NaN            NaN    BKN         6.2      0.80  \n",
       "3           26       NaN            NaN    OVC         6.2      0.80  \n",
       "4           26       NaN            NaN    BKN        11.2      0.88  "
      ]
     },
     "execution_count": 40,
     "metadata": {},
     "output_type": "execute_result"
    }
   ],
   "source": [
    "df.head()"
   ]
  },
  {
   "cell_type": "code",
   "execution_count": 41,
   "metadata": {},
   "outputs": [
    {
     "data": {
      "text/plain": [
       "datetime                int64\n",
       "wind_direction          int64\n",
       "wind_speed              int64\n",
       "gust_speed            float64\n",
       "sea_level_pressure    float64\n",
       "temperature             int64\n",
       "altitude              float64\n",
       "precipitation         float64\n",
       "clouds                 object\n",
       "visibility            float64\n",
       "humidity              float64\n",
       "dtype: object"
      ]
     },
     "execution_count": 41,
     "metadata": {},
     "output_type": "execute_result"
    }
   ],
   "source": [
    "df.dtypes"
   ]
  },
  {
   "cell_type": "code",
   "execution_count": 42,
   "metadata": {},
   "outputs": [
    {
     "name": "stdout",
     "output_type": "stream",
     "text": [
      "<class 'pandas.core.frame.DataFrame'>\n",
      "RangeIndex: 90565 entries, 0 to 90564\n",
      "Data columns (total 11 columns):\n",
      " #   Column              Non-Null Count  Dtype  \n",
      "---  ------              --------------  -----  \n",
      " 0   datetime            90565 non-null  int64  \n",
      " 1   wind_direction      90565 non-null  int64  \n",
      " 2   wind_speed          90565 non-null  int64  \n",
      " 3   gust_speed          1 non-null      float64\n",
      " 4   sea_level_pressure  90565 non-null  float64\n",
      " 5   temperature         90565 non-null  int64  \n",
      " 6   altitude            0 non-null      float64\n",
      " 7   precipitation       13 non-null     float64\n",
      " 8   clouds              90565 non-null  object \n",
      " 9   visibility          90565 non-null  float64\n",
      " 10  humidity            90565 non-null  float64\n",
      "dtypes: float64(6), int64(4), object(1)\n",
      "memory usage: 7.6+ MB\n"
     ]
    }
   ],
   "source": [
    "df.info()"
   ]
  },
  {
   "cell_type": "markdown",
   "metadata": {},
   "source": [
    "## PS 1.1 Data Dimensions"
   ]
  },
  {
   "cell_type": "code",
   "execution_count": 43,
   "metadata": {},
   "outputs": [
    {
     "name": "stdout",
     "output_type": "stream",
     "text": [
      "PS 1.1: Data Dimensions\n"
     ]
    },
    {
     "data": {
      "text/plain": [
       "(90565, 11)"
      ]
     },
     "execution_count": 43,
     "metadata": {},
     "output_type": "execute_result"
    }
   ],
   "source": [
    "print(\"PS 1.1: Data Dimensions\")\n",
    "df.shape"
   ]
  },
  {
   "cell_type": "code",
   "execution_count": 44,
   "metadata": {},
   "outputs": [
    {
     "data": {
      "text/plain": [
       "LinearRegression()"
      ]
     },
     "execution_count": 44,
     "metadata": {},
     "output_type": "execute_result"
    }
   ],
   "source": [
    "clouds = {'CLR': 0,'SCT': 1,'BKN': 2, 'OVC': 3,'OBS': 4,'POB': 5}\n",
    "df = pd.read_csv(\"data/PH_Weather_v1.csv\")\n",
    "#CLR-CLEAR \n",
    "#SCT-SCATTERED\n",
    "#BKN-BROKEN\n",
    "#OVC-OVERCAST\n",
    "#OBS-OBSCURED\n",
    "#POB-PARTIAL OBSCURATION \n",
    "\n",
    "df['cloud_pattern'] = df.clouds.map({'CLR': 1,'SCT': 2,'BKN': 3, 'OVC': 4,'OBS': 5,'POB': 6})\n",
    "#df['time'] = df.datetime.astype(str).str[-4:]\n",
    "df['date_time'] = pd.to_datetime(df['datetime'], format='%Y%m%d%H%M')\n",
    "df['year'] = df['date_time'].dt.year\n",
    "df['month'] = df['date_time'].dt.month\n",
    "df['time'] = df['date_time'].dt.hour\n",
    "df = df.drop([\"gust_speed\", \"altitude\", \"clouds\", \"precipitation\"],axis=1)\n",
    "df = df.dropna()\n",
    "\n",
    "X = df.drop([\"temperature\", \"date_time\"],axis=1)\n",
    "\n",
    "linear_model = LinearRegression()\n",
    "linear_model.fit(X, df[\"temperature\"])"
   ]
  },
  {
   "cell_type": "code",
   "execution_count": 45,
   "metadata": {},
   "outputs": [
    {
     "data": {
      "text/plain": [
       "(90463, 12)"
      ]
     },
     "execution_count": 45,
     "metadata": {},
     "output_type": "execute_result"
    }
   ],
   "source": [
    "df.shape"
   ]
  },
  {
   "cell_type": "code",
   "execution_count": 46,
   "metadata": {},
   "outputs": [
    {
     "data": {
      "text/html": [
       "<div>\n",
       "<style scoped>\n",
       "    .dataframe tbody tr th:only-of-type {\n",
       "        vertical-align: middle;\n",
       "    }\n",
       "\n",
       "    .dataframe tbody tr th {\n",
       "        vertical-align: top;\n",
       "    }\n",
       "\n",
       "    .dataframe thead th {\n",
       "        text-align: right;\n",
       "    }\n",
       "</style>\n",
       "<table border=\"1\" class=\"dataframe\">\n",
       "  <thead>\n",
       "    <tr style=\"text-align: right;\">\n",
       "      <th></th>\n",
       "      <th>datetime</th>\n",
       "      <th>wind_direction</th>\n",
       "      <th>wind_speed</th>\n",
       "      <th>sea_level_pressure</th>\n",
       "      <th>temperature</th>\n",
       "      <th>visibility</th>\n",
       "      <th>humidity</th>\n",
       "      <th>cloud_pattern</th>\n",
       "      <th>date_time</th>\n",
       "      <th>year</th>\n",
       "      <th>month</th>\n",
       "      <th>time</th>\n",
       "    </tr>\n",
       "  </thead>\n",
       "  <tbody>\n",
       "    <tr>\n",
       "      <th>0</th>\n",
       "      <td>197809140300</td>\n",
       "      <td>160</td>\n",
       "      <td>2</td>\n",
       "      <td>1007.7</td>\n",
       "      <td>30</td>\n",
       "      <td>15.6</td>\n",
       "      <td>0.75</td>\n",
       "      <td>3.0</td>\n",
       "      <td>1978-09-14 03:00:00</td>\n",
       "      <td>1978</td>\n",
       "      <td>9</td>\n",
       "      <td>3</td>\n",
       "    </tr>\n",
       "    <tr>\n",
       "      <th>1</th>\n",
       "      <td>197810021500</td>\n",
       "      <td>0</td>\n",
       "      <td>0</td>\n",
       "      <td>1011.3</td>\n",
       "      <td>26</td>\n",
       "      <td>6.2</td>\n",
       "      <td>0.94</td>\n",
       "      <td>4.0</td>\n",
       "      <td>1978-10-02 15:00:00</td>\n",
       "      <td>1978</td>\n",
       "      <td>10</td>\n",
       "      <td>15</td>\n",
       "    </tr>\n",
       "    <tr>\n",
       "      <th>2</th>\n",
       "      <td>197810252100</td>\n",
       "      <td>360</td>\n",
       "      <td>9</td>\n",
       "      <td>1004.1</td>\n",
       "      <td>26</td>\n",
       "      <td>6.2</td>\n",
       "      <td>0.80</td>\n",
       "      <td>3.0</td>\n",
       "      <td>1978-10-25 21:00:00</td>\n",
       "      <td>1978</td>\n",
       "      <td>10</td>\n",
       "      <td>21</td>\n",
       "    </tr>\n",
       "    <tr>\n",
       "      <th>3</th>\n",
       "      <td>197810260000</td>\n",
       "      <td>360</td>\n",
       "      <td>21</td>\n",
       "      <td>1006.3</td>\n",
       "      <td>26</td>\n",
       "      <td>6.2</td>\n",
       "      <td>0.80</td>\n",
       "      <td>4.0</td>\n",
       "      <td>1978-10-26 00:00:00</td>\n",
       "      <td>1978</td>\n",
       "      <td>10</td>\n",
       "      <td>0</td>\n",
       "    </tr>\n",
       "    <tr>\n",
       "      <th>4</th>\n",
       "      <td>197811131500</td>\n",
       "      <td>0</td>\n",
       "      <td>0</td>\n",
       "      <td>1010.1</td>\n",
       "      <td>26</td>\n",
       "      <td>11.2</td>\n",
       "      <td>0.88</td>\n",
       "      <td>3.0</td>\n",
       "      <td>1978-11-13 15:00:00</td>\n",
       "      <td>1978</td>\n",
       "      <td>11</td>\n",
       "      <td>15</td>\n",
       "    </tr>\n",
       "  </tbody>\n",
       "</table>\n",
       "</div>"
      ],
      "text/plain": [
       "       datetime  wind_direction  wind_speed  sea_level_pressure  temperature  \\\n",
       "0  197809140300             160           2              1007.7           30   \n",
       "1  197810021500               0           0              1011.3           26   \n",
       "2  197810252100             360           9              1004.1           26   \n",
       "3  197810260000             360          21              1006.3           26   \n",
       "4  197811131500               0           0              1010.1           26   \n",
       "\n",
       "   visibility  humidity  cloud_pattern           date_time  year  month  time  \n",
       "0        15.6      0.75            3.0 1978-09-14 03:00:00  1978      9     3  \n",
       "1         6.2      0.94            4.0 1978-10-02 15:00:00  1978     10    15  \n",
       "2         6.2      0.80            3.0 1978-10-25 21:00:00  1978     10    21  \n",
       "3         6.2      0.80            4.0 1978-10-26 00:00:00  1978     10     0  \n",
       "4        11.2      0.88            3.0 1978-11-13 15:00:00  1978     11    15  "
      ]
     },
     "execution_count": 46,
     "metadata": {},
     "output_type": "execute_result"
    }
   ],
   "source": [
    "df.head()"
   ]
  },
  {
   "cell_type": "code",
   "execution_count": 47,
   "metadata": {},
   "outputs": [
    {
     "data": {
      "text/html": [
       "<div>\n",
       "<style scoped>\n",
       "    .dataframe tbody tr th:only-of-type {\n",
       "        vertical-align: middle;\n",
       "    }\n",
       "\n",
       "    .dataframe tbody tr th {\n",
       "        vertical-align: top;\n",
       "    }\n",
       "\n",
       "    .dataframe thead th {\n",
       "        text-align: right;\n",
       "    }\n",
       "</style>\n",
       "<table border=\"1\" class=\"dataframe\">\n",
       "  <thead>\n",
       "    <tr style=\"text-align: right;\">\n",
       "      <th></th>\n",
       "      <th>datetime</th>\n",
       "      <th>wind_direction</th>\n",
       "      <th>wind_speed</th>\n",
       "      <th>sea_level_pressure</th>\n",
       "      <th>visibility</th>\n",
       "      <th>humidity</th>\n",
       "      <th>cloud_pattern</th>\n",
       "      <th>year</th>\n",
       "      <th>month</th>\n",
       "      <th>time</th>\n",
       "    </tr>\n",
       "  </thead>\n",
       "  <tbody>\n",
       "    <tr>\n",
       "      <th>0</th>\n",
       "      <td>197809140300</td>\n",
       "      <td>160</td>\n",
       "      <td>2</td>\n",
       "      <td>1007.7</td>\n",
       "      <td>15.6</td>\n",
       "      <td>0.75</td>\n",
       "      <td>3.0</td>\n",
       "      <td>1978</td>\n",
       "      <td>9</td>\n",
       "      <td>3</td>\n",
       "    </tr>\n",
       "    <tr>\n",
       "      <th>1</th>\n",
       "      <td>197810021500</td>\n",
       "      <td>0</td>\n",
       "      <td>0</td>\n",
       "      <td>1011.3</td>\n",
       "      <td>6.2</td>\n",
       "      <td>0.94</td>\n",
       "      <td>4.0</td>\n",
       "      <td>1978</td>\n",
       "      <td>10</td>\n",
       "      <td>15</td>\n",
       "    </tr>\n",
       "    <tr>\n",
       "      <th>2</th>\n",
       "      <td>197810252100</td>\n",
       "      <td>360</td>\n",
       "      <td>9</td>\n",
       "      <td>1004.1</td>\n",
       "      <td>6.2</td>\n",
       "      <td>0.80</td>\n",
       "      <td>3.0</td>\n",
       "      <td>1978</td>\n",
       "      <td>10</td>\n",
       "      <td>21</td>\n",
       "    </tr>\n",
       "    <tr>\n",
       "      <th>3</th>\n",
       "      <td>197810260000</td>\n",
       "      <td>360</td>\n",
       "      <td>21</td>\n",
       "      <td>1006.3</td>\n",
       "      <td>6.2</td>\n",
       "      <td>0.80</td>\n",
       "      <td>4.0</td>\n",
       "      <td>1978</td>\n",
       "      <td>10</td>\n",
       "      <td>0</td>\n",
       "    </tr>\n",
       "    <tr>\n",
       "      <th>4</th>\n",
       "      <td>197811131500</td>\n",
       "      <td>0</td>\n",
       "      <td>0</td>\n",
       "      <td>1010.1</td>\n",
       "      <td>11.2</td>\n",
       "      <td>0.88</td>\n",
       "      <td>3.0</td>\n",
       "      <td>1978</td>\n",
       "      <td>11</td>\n",
       "      <td>15</td>\n",
       "    </tr>\n",
       "  </tbody>\n",
       "</table>\n",
       "</div>"
      ],
      "text/plain": [
       "       datetime  wind_direction  wind_speed  sea_level_pressure  visibility  \\\n",
       "0  197809140300             160           2              1007.7        15.6   \n",
       "1  197810021500               0           0              1011.3         6.2   \n",
       "2  197810252100             360           9              1004.1         6.2   \n",
       "3  197810260000             360          21              1006.3         6.2   \n",
       "4  197811131500               0           0              1010.1        11.2   \n",
       "\n",
       "   humidity  cloud_pattern  year  month  time  \n",
       "0      0.75            3.0  1978      9     3  \n",
       "1      0.94            4.0  1978     10    15  \n",
       "2      0.80            3.0  1978     10    21  \n",
       "3      0.80            4.0  1978     10     0  \n",
       "4      0.88            3.0  1978     11    15  "
      ]
     },
     "execution_count": 47,
     "metadata": {},
     "output_type": "execute_result"
    }
   ],
   "source": [
    "X.head()"
   ]
  },
  {
   "cell_type": "markdown",
   "metadata": {},
   "source": [
    "## PS 1.2 Mean Temperature for the year 2017"
   ]
  },
  {
   "cell_type": "code",
   "execution_count": 48,
   "metadata": {
    "scrolled": true
   },
   "outputs": [
    {
     "name": "stdout",
     "output_type": "stream",
     "text": [
      "PS 1.2 Mean Temperature for the year 2017\n"
     ]
    },
    {
     "data": {
      "text/plain": [
       "27.93335635359116"
      ]
     },
     "execution_count": 48,
     "metadata": {},
     "output_type": "execute_result"
    }
   ],
   "source": [
    "print(\"PS 1.2 Mean Temperature for the year 2017\")\n",
    "df_2017 = df[df[\"year\"] == 2017]\n",
    "df_2017[\"temperature\"].mean()"
   ]
  },
  {
   "cell_type": "markdown",
   "metadata": {},
   "source": [
    "## PS 1.3 Beta Coefficients"
   ]
  },
  {
   "cell_type": "code",
   "execution_count": 49,
   "metadata": {},
   "outputs": [
    {
     "name": "stdout",
     "output_type": "stream",
     "text": [
      "PS 1.3.1 Beta Coefficients\n",
      "Coefficient values[ 1.06643665e-07  9.55102818e-04  7.08386671e-02 -1.55979164e-04\n",
      "  9.75279490e-02 -1.09860985e+01  1.15589646e-01 -1.06517865e+01\n",
      " -1.39094401e-02 -5.35317586e-02]\n"
     ]
    }
   ],
   "source": [
    "print(\"PS 1.3.1 Beta Coefficients\")\n",
    "print(f\"Coefficient values{linear_model.coef_}\")"
   ]
  },
  {
   "cell_type": "code",
   "execution_count": 50,
   "metadata": {},
   "outputs": [
    {
     "data": {
      "text/plain": [
       "10"
      ]
     },
     "execution_count": 50,
     "metadata": {},
     "output_type": "execute_result"
    }
   ],
   "source": [
    "len(linear_model.coef_)"
   ]
  },
  {
   "cell_type": "code",
   "execution_count": 51,
   "metadata": {},
   "outputs": [
    {
     "name": "stdout",
     "output_type": "stream",
     "text": [
      "PS 1.3.2 Beta Coefficients\n"
     ]
    },
    {
     "data": {
      "text/html": [
       "<div>\n",
       "<style scoped>\n",
       "    .dataframe tbody tr th:only-of-type {\n",
       "        vertical-align: middle;\n",
       "    }\n",
       "\n",
       "    .dataframe tbody tr th {\n",
       "        vertical-align: top;\n",
       "    }\n",
       "\n",
       "    .dataframe thead th {\n",
       "        text-align: right;\n",
       "    }\n",
       "</style>\n",
       "<table border=\"1\" class=\"dataframe\">\n",
       "  <thead>\n",
       "    <tr style=\"text-align: right;\">\n",
       "      <th></th>\n",
       "      <th>0</th>\n",
       "      <th>1</th>\n",
       "    </tr>\n",
       "  </thead>\n",
       "  <tbody>\n",
       "    <tr>\n",
       "      <th>0</th>\n",
       "      <td>datetime</td>\n",
       "      <td>1.066437e-07</td>\n",
       "    </tr>\n",
       "    <tr>\n",
       "      <th>1</th>\n",
       "      <td>wind_direction</td>\n",
       "      <td>9.551028e-04</td>\n",
       "    </tr>\n",
       "    <tr>\n",
       "      <th>2</th>\n",
       "      <td>wind_speed</td>\n",
       "      <td>7.083867e-02</td>\n",
       "    </tr>\n",
       "    <tr>\n",
       "      <th>3</th>\n",
       "      <td>sea_level_pressure</td>\n",
       "      <td>-1.559792e-04</td>\n",
       "    </tr>\n",
       "    <tr>\n",
       "      <th>4</th>\n",
       "      <td>visibility</td>\n",
       "      <td>9.752795e-02</td>\n",
       "    </tr>\n",
       "    <tr>\n",
       "      <th>5</th>\n",
       "      <td>humidity</td>\n",
       "      <td>-1.098610e+01</td>\n",
       "    </tr>\n",
       "    <tr>\n",
       "      <th>6</th>\n",
       "      <td>cloud_pattern</td>\n",
       "      <td>1.155896e-01</td>\n",
       "    </tr>\n",
       "    <tr>\n",
       "      <th>7</th>\n",
       "      <td>year</td>\n",
       "      <td>-1.065179e+01</td>\n",
       "    </tr>\n",
       "    <tr>\n",
       "      <th>8</th>\n",
       "      <td>month</td>\n",
       "      <td>-1.390944e-02</td>\n",
       "    </tr>\n",
       "    <tr>\n",
       "      <th>9</th>\n",
       "      <td>time</td>\n",
       "      <td>-5.353176e-02</td>\n",
       "    </tr>\n",
       "  </tbody>\n",
       "</table>\n",
       "</div>"
      ],
      "text/plain": [
       "                    0             1\n",
       "0            datetime  1.066437e-07\n",
       "1      wind_direction  9.551028e-04\n",
       "2          wind_speed  7.083867e-02\n",
       "3  sea_level_pressure -1.559792e-04\n",
       "4          visibility  9.752795e-02\n",
       "5            humidity -1.098610e+01\n",
       "6       cloud_pattern  1.155896e-01\n",
       "7                year -1.065179e+01\n",
       "8               month -1.390944e-02\n",
       "9                time -5.353176e-02"
      ]
     },
     "execution_count": 51,
     "metadata": {},
     "output_type": "execute_result"
    }
   ],
   "source": [
    "print(\"PS 1.3.2 Beta Coefficients\")\n",
    "this = pd.DataFrame(list(zip(X.columns, linear_model.coef_)))\n",
    "this"
   ]
  },
  {
   "cell_type": "code",
   "execution_count": 52,
   "metadata": {},
   "outputs": [
    {
     "name": "stdout",
     "output_type": "stream",
     "text": [
      "PS 1.3.3 Beta Coefficients\n"
     ]
    },
    {
     "data": {
      "text/html": [
       "<div>\n",
       "<style scoped>\n",
       "    .dataframe tbody tr th:only-of-type {\n",
       "        vertical-align: middle;\n",
       "    }\n",
       "\n",
       "    .dataframe tbody tr th {\n",
       "        vertical-align: top;\n",
       "    }\n",
       "\n",
       "    .dataframe thead th {\n",
       "        text-align: right;\n",
       "    }\n",
       "</style>\n",
       "<table border=\"1\" class=\"dataframe\">\n",
       "  <thead>\n",
       "    <tr style=\"text-align: right;\">\n",
       "      <th></th>\n",
       "      <th>datetime</th>\n",
       "      <th>wind_direction</th>\n",
       "      <th>wind_speed</th>\n",
       "      <th>sea_level_pressure</th>\n",
       "      <th>temperature</th>\n",
       "      <th>visibility</th>\n",
       "      <th>humidity</th>\n",
       "      <th>cloud_pattern</th>\n",
       "      <th>year</th>\n",
       "      <th>month</th>\n",
       "      <th>time</th>\n",
       "    </tr>\n",
       "  </thead>\n",
       "  <tbody>\n",
       "    <tr>\n",
       "      <th>datetime</th>\n",
       "      <td>1.000000</td>\n",
       "      <td>0.064850</td>\n",
       "      <td>0.001134</td>\n",
       "      <td>0.061086</td>\n",
       "      <td>0.038028</td>\n",
       "      <td>0.164081</td>\n",
       "      <td>0.044645</td>\n",
       "      <td>-0.164927</td>\n",
       "      <td>0.999995</td>\n",
       "      <td>-0.029806</td>\n",
       "      <td>0.035493</td>\n",
       "    </tr>\n",
       "    <tr>\n",
       "      <th>wind_direction</th>\n",
       "      <td>0.064850</td>\n",
       "      <td>1.000000</td>\n",
       "      <td>0.221396</td>\n",
       "      <td>0.000395</td>\n",
       "      <td>0.080879</td>\n",
       "      <td>-0.075463</td>\n",
       "      <td>0.045748</td>\n",
       "      <td>0.157694</td>\n",
       "      <td>0.064755</td>\n",
       "      <td>0.027373</td>\n",
       "      <td>-0.180835</td>\n",
       "    </tr>\n",
       "    <tr>\n",
       "      <th>wind_speed</th>\n",
       "      <td>0.001134</td>\n",
       "      <td>0.221396</td>\n",
       "      <td>1.000000</td>\n",
       "      <td>-0.025962</td>\n",
       "      <td>0.286809</td>\n",
       "      <td>0.071449</td>\n",
       "      <td>-0.159770</td>\n",
       "      <td>0.112680</td>\n",
       "      <td>0.001113</td>\n",
       "      <td>0.006099</td>\n",
       "      <td>-0.201538</td>\n",
       "    </tr>\n",
       "    <tr>\n",
       "      <th>sea_level_pressure</th>\n",
       "      <td>0.061086</td>\n",
       "      <td>0.000395</td>\n",
       "      <td>-0.025962</td>\n",
       "      <td>1.000000</td>\n",
       "      <td>-0.001065</td>\n",
       "      <td>-0.010878</td>\n",
       "      <td>-0.011739</td>\n",
       "      <td>-0.002140</td>\n",
       "      <td>0.061122</td>\n",
       "      <td>-0.012935</td>\n",
       "      <td>-0.000525</td>\n",
       "    </tr>\n",
       "    <tr>\n",
       "      <th>temperature</th>\n",
       "      <td>0.038028</td>\n",
       "      <td>0.080879</td>\n",
       "      <td>0.286809</td>\n",
       "      <td>-0.001065</td>\n",
       "      <td>1.000000</td>\n",
       "      <td>0.246423</td>\n",
       "      <td>-0.646431</td>\n",
       "      <td>-0.108519</td>\n",
       "      <td>0.038116</td>\n",
       "      <td>-0.028628</td>\n",
       "      <td>-0.383495</td>\n",
       "    </tr>\n",
       "    <tr>\n",
       "      <th>visibility</th>\n",
       "      <td>0.164081</td>\n",
       "      <td>-0.075463</td>\n",
       "      <td>0.071449</td>\n",
       "      <td>-0.010878</td>\n",
       "      <td>0.246423</td>\n",
       "      <td>1.000000</td>\n",
       "      <td>-0.192846</td>\n",
       "      <td>-0.464759</td>\n",
       "      <td>0.164211</td>\n",
       "      <td>-0.045627</td>\n",
       "      <td>-0.121422</td>\n",
       "    </tr>\n",
       "    <tr>\n",
       "      <th>humidity</th>\n",
       "      <td>0.044645</td>\n",
       "      <td>0.045748</td>\n",
       "      <td>-0.159770</td>\n",
       "      <td>-0.011739</td>\n",
       "      <td>-0.646431</td>\n",
       "      <td>-0.192846</td>\n",
       "      <td>1.000000</td>\n",
       "      <td>0.206060</td>\n",
       "      <td>0.043756</td>\n",
       "      <td>0.275649</td>\n",
       "      <td>0.289437</td>\n",
       "    </tr>\n",
       "    <tr>\n",
       "      <th>cloud_pattern</th>\n",
       "      <td>-0.164927</td>\n",
       "      <td>0.157694</td>\n",
       "      <td>0.112680</td>\n",
       "      <td>-0.002140</td>\n",
       "      <td>-0.108519</td>\n",
       "      <td>-0.464759</td>\n",
       "      <td>0.206060</td>\n",
       "      <td>1.000000</td>\n",
       "      <td>-0.165348</td>\n",
       "      <td>0.136492</td>\n",
       "      <td>-0.019064</td>\n",
       "    </tr>\n",
       "    <tr>\n",
       "      <th>year</th>\n",
       "      <td>0.999995</td>\n",
       "      <td>0.064755</td>\n",
       "      <td>0.001113</td>\n",
       "      <td>0.061122</td>\n",
       "      <td>0.038116</td>\n",
       "      <td>0.164211</td>\n",
       "      <td>0.043756</td>\n",
       "      <td>-0.165348</td>\n",
       "      <td>1.000000</td>\n",
       "      <td>-0.033011</td>\n",
       "      <td>0.035478</td>\n",
       "    </tr>\n",
       "    <tr>\n",
       "      <th>month</th>\n",
       "      <td>-0.029806</td>\n",
       "      <td>0.027373</td>\n",
       "      <td>0.006099</td>\n",
       "      <td>-0.012935</td>\n",
       "      <td>-0.028628</td>\n",
       "      <td>-0.045627</td>\n",
       "      <td>0.275649</td>\n",
       "      <td>0.136492</td>\n",
       "      <td>-0.033011</td>\n",
       "      <td>1.000000</td>\n",
       "      <td>0.003492</td>\n",
       "    </tr>\n",
       "    <tr>\n",
       "      <th>time</th>\n",
       "      <td>0.035493</td>\n",
       "      <td>-0.180835</td>\n",
       "      <td>-0.201538</td>\n",
       "      <td>-0.000525</td>\n",
       "      <td>-0.383495</td>\n",
       "      <td>-0.121422</td>\n",
       "      <td>0.289437</td>\n",
       "      <td>-0.019064</td>\n",
       "      <td>0.035478</td>\n",
       "      <td>0.003492</td>\n",
       "      <td>1.000000</td>\n",
       "    </tr>\n",
       "  </tbody>\n",
       "</table>\n",
       "</div>"
      ],
      "text/plain": [
       "                    datetime  wind_direction  wind_speed  sea_level_pressure  \\\n",
       "datetime            1.000000        0.064850    0.001134            0.061086   \n",
       "wind_direction      0.064850        1.000000    0.221396            0.000395   \n",
       "wind_speed          0.001134        0.221396    1.000000           -0.025962   \n",
       "sea_level_pressure  0.061086        0.000395   -0.025962            1.000000   \n",
       "temperature         0.038028        0.080879    0.286809           -0.001065   \n",
       "visibility          0.164081       -0.075463    0.071449           -0.010878   \n",
       "humidity            0.044645        0.045748   -0.159770           -0.011739   \n",
       "cloud_pattern      -0.164927        0.157694    0.112680           -0.002140   \n",
       "year                0.999995        0.064755    0.001113            0.061122   \n",
       "month              -0.029806        0.027373    0.006099           -0.012935   \n",
       "time                0.035493       -0.180835   -0.201538           -0.000525   \n",
       "\n",
       "                    temperature  visibility  humidity  cloud_pattern  \\\n",
       "datetime               0.038028    0.164081  0.044645      -0.164927   \n",
       "wind_direction         0.080879   -0.075463  0.045748       0.157694   \n",
       "wind_speed             0.286809    0.071449 -0.159770       0.112680   \n",
       "sea_level_pressure    -0.001065   -0.010878 -0.011739      -0.002140   \n",
       "temperature            1.000000    0.246423 -0.646431      -0.108519   \n",
       "visibility             0.246423    1.000000 -0.192846      -0.464759   \n",
       "humidity              -0.646431   -0.192846  1.000000       0.206060   \n",
       "cloud_pattern         -0.108519   -0.464759  0.206060       1.000000   \n",
       "year                   0.038116    0.164211  0.043756      -0.165348   \n",
       "month                 -0.028628   -0.045627  0.275649       0.136492   \n",
       "time                  -0.383495   -0.121422  0.289437      -0.019064   \n",
       "\n",
       "                        year     month      time  \n",
       "datetime            0.999995 -0.029806  0.035493  \n",
       "wind_direction      0.064755  0.027373 -0.180835  \n",
       "wind_speed          0.001113  0.006099 -0.201538  \n",
       "sea_level_pressure  0.061122 -0.012935 -0.000525  \n",
       "temperature         0.038116 -0.028628 -0.383495  \n",
       "visibility          0.164211 -0.045627 -0.121422  \n",
       "humidity            0.043756  0.275649  0.289437  \n",
       "cloud_pattern      -0.165348  0.136492 -0.019064  \n",
       "year                1.000000 -0.033011  0.035478  \n",
       "month              -0.033011  1.000000  0.003492  \n",
       "time                0.035478  0.003492  1.000000  "
      ]
     },
     "execution_count": 52,
     "metadata": {},
     "output_type": "execute_result"
    }
   ],
   "source": [
    "print(\"PS 1.3.3 Beta Coefficients\")\n",
    "df.corr(method='pearson')"
   ]
  },
  {
   "cell_type": "code",
   "execution_count": 53,
   "metadata": {},
   "outputs": [
    {
     "data": {
      "text/html": [
       "<div>\n",
       "<style scoped>\n",
       "    .dataframe tbody tr th:only-of-type {\n",
       "        vertical-align: middle;\n",
       "    }\n",
       "\n",
       "    .dataframe tbody tr th {\n",
       "        vertical-align: top;\n",
       "    }\n",
       "\n",
       "    .dataframe thead th {\n",
       "        text-align: right;\n",
       "    }\n",
       "</style>\n",
       "<table border=\"1\" class=\"dataframe\">\n",
       "  <thead>\n",
       "    <tr style=\"text-align: right;\">\n",
       "      <th></th>\n",
       "      <th>visibility</th>\n",
       "      <th>temperature</th>\n",
       "    </tr>\n",
       "  </thead>\n",
       "  <tbody>\n",
       "    <tr>\n",
       "      <th>0</th>\n",
       "      <td>15.6</td>\n",
       "      <td>30</td>\n",
       "    </tr>\n",
       "    <tr>\n",
       "      <th>1</th>\n",
       "      <td>6.2</td>\n",
       "      <td>26</td>\n",
       "    </tr>\n",
       "    <tr>\n",
       "      <th>2</th>\n",
       "      <td>6.2</td>\n",
       "      <td>26</td>\n",
       "    </tr>\n",
       "    <tr>\n",
       "      <th>3</th>\n",
       "      <td>6.2</td>\n",
       "      <td>26</td>\n",
       "    </tr>\n",
       "    <tr>\n",
       "      <th>4</th>\n",
       "      <td>11.2</td>\n",
       "      <td>26</td>\n",
       "    </tr>\n",
       "    <tr>\n",
       "      <th>...</th>\n",
       "      <td>...</td>\n",
       "      <td>...</td>\n",
       "    </tr>\n",
       "    <tr>\n",
       "      <th>90560</th>\n",
       "      <td>7.5</td>\n",
       "      <td>28</td>\n",
       "    </tr>\n",
       "    <tr>\n",
       "      <th>90561</th>\n",
       "      <td>7.5</td>\n",
       "      <td>28</td>\n",
       "    </tr>\n",
       "    <tr>\n",
       "      <th>90562</th>\n",
       "      <td>7.5</td>\n",
       "      <td>27</td>\n",
       "    </tr>\n",
       "    <tr>\n",
       "      <th>90563</th>\n",
       "      <td>7.5</td>\n",
       "      <td>27</td>\n",
       "    </tr>\n",
       "    <tr>\n",
       "      <th>90564</th>\n",
       "      <td>7.5</td>\n",
       "      <td>26</td>\n",
       "    </tr>\n",
       "  </tbody>\n",
       "</table>\n",
       "<p>90463 rows × 2 columns</p>\n",
       "</div>"
      ],
      "text/plain": [
       "       visibility  temperature\n",
       "0            15.6           30\n",
       "1             6.2           26\n",
       "2             6.2           26\n",
       "3             6.2           26\n",
       "4            11.2           26\n",
       "...           ...          ...\n",
       "90560         7.5           28\n",
       "90561         7.5           28\n",
       "90562         7.5           27\n",
       "90563         7.5           27\n",
       "90564         7.5           26\n",
       "\n",
       "[90463 rows x 2 columns]"
      ]
     },
     "execution_count": 53,
     "metadata": {},
     "output_type": "execute_result"
    }
   ],
   "source": [
    "df[['visibility', 'temperature']]"
   ]
  },
  {
   "cell_type": "code",
   "execution_count": 54,
   "metadata": {},
   "outputs": [
    {
     "data": {
      "text/html": [
       "<div>\n",
       "<style scoped>\n",
       "    .dataframe tbody tr th:only-of-type {\n",
       "        vertical-align: middle;\n",
       "    }\n",
       "\n",
       "    .dataframe tbody tr th {\n",
       "        vertical-align: top;\n",
       "    }\n",
       "\n",
       "    .dataframe thead th {\n",
       "        text-align: right;\n",
       "    }\n",
       "</style>\n",
       "<table border=\"1\" class=\"dataframe\">\n",
       "  <thead>\n",
       "    <tr style=\"text-align: right;\">\n",
       "      <th></th>\n",
       "      <th>humidity</th>\n",
       "      <th>temperature</th>\n",
       "    </tr>\n",
       "  </thead>\n",
       "  <tbody>\n",
       "    <tr>\n",
       "      <th>0</th>\n",
       "      <td>0.75</td>\n",
       "      <td>30</td>\n",
       "    </tr>\n",
       "    <tr>\n",
       "      <th>1</th>\n",
       "      <td>0.94</td>\n",
       "      <td>26</td>\n",
       "    </tr>\n",
       "    <tr>\n",
       "      <th>2</th>\n",
       "      <td>0.80</td>\n",
       "      <td>26</td>\n",
       "    </tr>\n",
       "    <tr>\n",
       "      <th>3</th>\n",
       "      <td>0.80</td>\n",
       "      <td>26</td>\n",
       "    </tr>\n",
       "    <tr>\n",
       "      <th>4</th>\n",
       "      <td>0.88</td>\n",
       "      <td>26</td>\n",
       "    </tr>\n",
       "    <tr>\n",
       "      <th>...</th>\n",
       "      <td>...</td>\n",
       "      <td>...</td>\n",
       "    </tr>\n",
       "    <tr>\n",
       "      <th>90560</th>\n",
       "      <td>0.80</td>\n",
       "      <td>28</td>\n",
       "    </tr>\n",
       "    <tr>\n",
       "      <th>90561</th>\n",
       "      <td>0.86</td>\n",
       "      <td>28</td>\n",
       "    </tr>\n",
       "    <tr>\n",
       "      <th>90562</th>\n",
       "      <td>0.80</td>\n",
       "      <td>27</td>\n",
       "    </tr>\n",
       "    <tr>\n",
       "      <th>90563</th>\n",
       "      <td>0.77</td>\n",
       "      <td>27</td>\n",
       "    </tr>\n",
       "    <tr>\n",
       "      <th>90564</th>\n",
       "      <td>0.80</td>\n",
       "      <td>26</td>\n",
       "    </tr>\n",
       "  </tbody>\n",
       "</table>\n",
       "<p>90463 rows × 2 columns</p>\n",
       "</div>"
      ],
      "text/plain": [
       "       humidity  temperature\n",
       "0          0.75           30\n",
       "1          0.94           26\n",
       "2          0.80           26\n",
       "3          0.80           26\n",
       "4          0.88           26\n",
       "...         ...          ...\n",
       "90560      0.80           28\n",
       "90561      0.86           28\n",
       "90562      0.80           27\n",
       "90563      0.77           27\n",
       "90564      0.80           26\n",
       "\n",
       "[90463 rows x 2 columns]"
      ]
     },
     "execution_count": 54,
     "metadata": {},
     "output_type": "execute_result"
    }
   ],
   "source": [
    "df[['humidity', 'temperature']]"
   ]
  },
  {
   "cell_type": "markdown",
   "metadata": {},
   "source": [
    "## PS 1.4: Relationship between the variable with the highest beta coefficient and temperature"
   ]
  },
  {
   "cell_type": "code",
   "execution_count": 55,
   "metadata": {},
   "outputs": [
    {
     "name": "stdout",
     "output_type": "stream",
     "text": [
      "PS 1.4: Relationship between the variable with the highest beta coefficient and temperature\n"
     ]
    },
    {
     "data": {
      "image/png": "[encoded data removed]",
      "text/plain": [
       "<Figure size 720x576 with 1 Axes>"
      ]
     },
     "metadata": {},
     "output_type": "display_data"
    }
   ],
   "source": [
    "plt.style.use('fivethirtyeight')\n",
    "plt.figure(figsize=(10,8))\n",
    "\n",
    "plt.scatter(df[\"visibility\"], df[\"temperature\"])\n",
    "plt.xlabel(\"visibility\")\n",
    "plt.ylabel(\"Temperature\")\n",
    "plt.title(\"Relationship between visibility and temperature\")\n",
    "print(\"PS 1.4: Relationship between the variable with the highest beta coefficient and temperature\")"
   ]
  },
  {
   "cell_type": "code",
   "execution_count": 56,
   "metadata": {},
   "outputs": [
    {
     "name": "stdout",
     "output_type": "stream",
     "text": [
      "PS 1.4: Relationship between the variable with the highest beta coefficient and temperature\n"
     ]
    },
    {
     "data": {
      "image/png": "[encoded data removed]",
      "text/plain": [
       "<Figure size 720x720 with 1 Axes>"
      ]
     },
     "metadata": {},
     "output_type": "display_data"
    }
   ],
   "source": [
    "plt.style.use('seaborn')\n",
    "plt.figure(figsize=(10,10))\n",
    "\n",
    "plt.scatter(df[\"humidity\"], df[\"temperature\"])\n",
    "plt.xlabel(\"Humidity\")\n",
    "plt.ylabel(\"Temperature\")\n",
    "plt.title(\"Relationship between humidity and temperature\")\n",
    "print(\"PS 1.4: Relationship between the variable with the highest beta coefficient and temperature\")"
   ]
  },
  {
   "cell_type": "code",
   "execution_count": 57,
   "metadata": {},
   "outputs": [
    {
     "name": "stderr",
     "output_type": "stream",
     "text": [
      "c:\\users\\john nico\\appdata\\local\\programs\\python\\python39\\lib\\site-packages\\seaborn\\_decorators.py:36: FutureWarning: Pass the following variables as keyword args: x, y. From version 0.12, the only valid positional argument will be `data`, and passing other arguments without an explicit keyword will result in an error or misinterpretation.\n",
      "  warnings.warn(\n"
     ]
    },
    {
     "data": {
      "text/plain": [
       "<seaborn.axisgrid.JointGrid at 0x14d892599a0>"
      ]
     },
     "execution_count": 57,
     "metadata": {},
     "output_type": "execute_result"
    },
    {
     "data": {
      "image/png": "[encoded data removed]",
      "text/plain": [
       "<Figure size 432x432 with 3 Axes>"
      ]
     },
     "metadata": {},
     "output_type": "display_data"
    }
   ],
   "source": [
    "import seaborn as sns\n",
    "\n",
    "sns.set(rc={'figure.figsize':(11.7,8.27)})\n",
    "sns.jointplot(\"visibility\", \"temperature\", data=df, kind='reg')"
   ]
  },
  {
   "cell_type": "code",
   "execution_count": 58,
   "metadata": {},
   "outputs": [
    {
     "name": "stderr",
     "output_type": "stream",
     "text": [
      "c:\\users\\john nico\\appdata\\local\\programs\\python\\python39\\lib\\site-packages\\seaborn\\_decorators.py:36: FutureWarning: Pass the following variables as keyword args: x, y. From version 0.12, the only valid positional argument will be `data`, and passing other arguments without an explicit keyword will result in an error or misinterpretation.\n",
      "  warnings.warn(\n"
     ]
    },
    {
     "data": {
      "text/plain": [
       "<seaborn.axisgrid.JointGrid at 0x14d86ea3f10>"
      ]
     },
     "execution_count": 58,
     "metadata": {},
     "output_type": "execute_result"
    },
    {
     "data": {
      "image/png": "[encoded data removed]",
      "text/plain": [
       "<Figure size 432x432 with 3 Axes>"
      ]
     },
     "metadata": {},
     "output_type": "display_data"
    }
   ],
   "source": [
    "import seaborn as sns\n",
    "\n",
    "sns.jointplot(\"humidity\", \"temperature\", data=df, kind='reg')"
   ]
  },
  {
   "cell_type": "code",
   "execution_count": 67,
   "metadata": {},
   "outputs": [
    {
     "name": "stderr",
     "output_type": "stream",
     "text": [
      "c:\\users\\john nico\\appdata\\local\\programs\\python\\python39\\lib\\site-packages\\seaborn\\axisgrid.py:316: UserWarning: The `size` parameter has been renamed to `height`; please update your code.\n",
      "  warnings.warn(msg, UserWarning)\n"
     ]
    },
    {
     "data": {
      "text/plain": [
       "<seaborn.axisgrid.FacetGrid at 0x14d879e4610>"
      ]
     },
     "execution_count": 67,
     "metadata": {},
     "output_type": "execute_result"
    },
    {
     "data": {
      "image/png": "[encoded data removed]",
      "text/plain": [
       "<Figure size 866.975x720 with 1 Axes>"
      ]
     },
     "metadata": {},
     "output_type": "display_data"
    }
   ],
   "source": [
    "sns.FacetGrid(df, hue=\"humidity\", size = 10).map(plt.scatter, \"visibility\", \"temperature\").add_legend()"
   ]
  },
  {
   "cell_type": "code",
   "execution_count": 59,
   "metadata": {},
   "outputs": [],
   "source": [
    "predictions = linear_model.predict(X)"
   ]
  },
  {
   "cell_type": "code",
   "execution_count": 60,
   "metadata": {},
   "outputs": [],
   "source": [
    "df[\"PRED\"] = predictions"
   ]
  },
  {
   "cell_type": "code",
   "execution_count": 61,
   "metadata": {},
   "outputs": [
    {
     "data": {
      "text/html": [
       "<div>\n",
       "<style scoped>\n",
       "    .dataframe tbody tr th:only-of-type {\n",
       "        vertical-align: middle;\n",
       "    }\n",
       "\n",
       "    .dataframe tbody tr th {\n",
       "        vertical-align: top;\n",
       "    }\n",
       "\n",
       "    .dataframe thead th {\n",
       "        text-align: right;\n",
       "    }\n",
       "</style>\n",
       "<table border=\"1\" class=\"dataframe\">\n",
       "  <thead>\n",
       "    <tr style=\"text-align: right;\">\n",
       "      <th></th>\n",
       "      <th>datetime</th>\n",
       "      <th>wind_direction</th>\n",
       "      <th>wind_speed</th>\n",
       "      <th>sea_level_pressure</th>\n",
       "      <th>temperature</th>\n",
       "      <th>visibility</th>\n",
       "      <th>humidity</th>\n",
       "      <th>cloud_pattern</th>\n",
       "      <th>date_time</th>\n",
       "      <th>year</th>\n",
       "      <th>month</th>\n",
       "      <th>time</th>\n",
       "      <th>PRED</th>\n",
       "    </tr>\n",
       "  </thead>\n",
       "  <tbody>\n",
       "    <tr>\n",
       "      <th>0</th>\n",
       "      <td>197809140300</td>\n",
       "      <td>160</td>\n",
       "      <td>2</td>\n",
       "      <td>1007.7</td>\n",
       "      <td>30</td>\n",
       "      <td>15.6</td>\n",
       "      <td>0.75</td>\n",
       "      <td>3.0</td>\n",
       "      <td>1978-09-14 03:00:00</td>\n",
       "      <td>1978</td>\n",
       "      <td>9</td>\n",
       "      <td>3</td>\n",
       "      <td>28.905448</td>\n",
       "    </tr>\n",
       "    <tr>\n",
       "      <th>1</th>\n",
       "      <td>197810021500</td>\n",
       "      <td>0</td>\n",
       "      <td>0</td>\n",
       "      <td>1011.3</td>\n",
       "      <td>26</td>\n",
       "      <td>6.2</td>\n",
       "      <td>0.94</td>\n",
       "      <td>4.0</td>\n",
       "      <td>1978-10-02 15:00:00</td>\n",
       "      <td>1978</td>\n",
       "      <td>10</td>\n",
       "      <td>15</td>\n",
       "      <td>25.159544</td>\n",
       "    </tr>\n",
       "    <tr>\n",
       "      <th>2</th>\n",
       "      <td>197810252100</td>\n",
       "      <td>360</td>\n",
       "      <td>9</td>\n",
       "      <td>1004.1</td>\n",
       "      <td>26</td>\n",
       "      <td>6.2</td>\n",
       "      <td>0.80</td>\n",
       "      <td>3.0</td>\n",
       "      <td>1978-10-25 21:00:00</td>\n",
       "      <td>1978</td>\n",
       "      <td>10</td>\n",
       "      <td>21</td>\n",
       "      <td>27.267918</td>\n",
       "    </tr>\n",
       "    <tr>\n",
       "      <th>3</th>\n",
       "      <td>197810260000</td>\n",
       "      <td>360</td>\n",
       "      <td>21</td>\n",
       "      <td>1006.3</td>\n",
       "      <td>26</td>\n",
       "      <td>6.2</td>\n",
       "      <td>0.80</td>\n",
       "      <td>4.0</td>\n",
       "      <td>1978-10-26 00:00:00</td>\n",
       "      <td>1978</td>\n",
       "      <td>10</td>\n",
       "      <td>0</td>\n",
       "      <td>29.358238</td>\n",
       "    </tr>\n",
       "    <tr>\n",
       "      <th>4</th>\n",
       "      <td>197811131500</td>\n",
       "      <td>0</td>\n",
       "      <td>0</td>\n",
       "      <td>1010.1</td>\n",
       "      <td>26</td>\n",
       "      <td>11.2</td>\n",
       "      <td>0.88</td>\n",
       "      <td>3.0</td>\n",
       "      <td>1978-11-13 15:00:00</td>\n",
       "      <td>1978</td>\n",
       "      <td>11</td>\n",
       "      <td>15</td>\n",
       "      <td>26.295413</td>\n",
       "    </tr>\n",
       "    <tr>\n",
       "      <th>5</th>\n",
       "      <td>197811141500</td>\n",
       "      <td>40</td>\n",
       "      <td>2</td>\n",
       "      <td>1012.4</td>\n",
       "      <td>26</td>\n",
       "      <td>5.0</td>\n",
       "      <td>0.75</td>\n",
       "      <td>2.0</td>\n",
       "      <td>1978-11-14 15:00:00</td>\n",
       "      <td>1978</td>\n",
       "      <td>11</td>\n",
       "      <td>15</td>\n",
       "      <td>27.183932</td>\n",
       "    </tr>\n",
       "    <tr>\n",
       "      <th>6</th>\n",
       "      <td>197811241500</td>\n",
       "      <td>180</td>\n",
       "      <td>2</td>\n",
       "      <td>1012.1</td>\n",
       "      <td>26</td>\n",
       "      <td>6.2</td>\n",
       "      <td>0.55</td>\n",
       "      <td>3.0</td>\n",
       "      <td>1978-11-24 15:00:00</td>\n",
       "      <td>1978</td>\n",
       "      <td>11</td>\n",
       "      <td>15</td>\n",
       "      <td>29.758200</td>\n",
       "    </tr>\n",
       "    <tr>\n",
       "      <th>7</th>\n",
       "      <td>197811241800</td>\n",
       "      <td>40</td>\n",
       "      <td>2</td>\n",
       "      <td>1011.0</td>\n",
       "      <td>25</td>\n",
       "      <td>3.1</td>\n",
       "      <td>0.63</td>\n",
       "      <td>2.0</td>\n",
       "      <td>1978-11-24 18:00:00</td>\n",
       "      <td>1978</td>\n",
       "      <td>11</td>\n",
       "      <td>18</td>\n",
       "      <td>28.167280</td>\n",
       "    </tr>\n",
       "    <tr>\n",
       "      <th>8</th>\n",
       "      <td>197811242100</td>\n",
       "      <td>360</td>\n",
       "      <td>3</td>\n",
       "      <td>1010.6</td>\n",
       "      <td>22</td>\n",
       "      <td>3.1</td>\n",
       "      <td>0.77</td>\n",
       "      <td>2.0</td>\n",
       "      <td>1978-11-24 21:00:00</td>\n",
       "      <td>1978</td>\n",
       "      <td>11</td>\n",
       "      <td>21</td>\n",
       "      <td>26.845197</td>\n",
       "    </tr>\n",
       "    <tr>\n",
       "      <th>9</th>\n",
       "      <td>197811271500</td>\n",
       "      <td>220</td>\n",
       "      <td>2</td>\n",
       "      <td>1012.5</td>\n",
       "      <td>26</td>\n",
       "      <td>5.0</td>\n",
       "      <td>0.50</td>\n",
       "      <td>2.0</td>\n",
       "      <td>1978-11-27 15:00:00</td>\n",
       "      <td>1978</td>\n",
       "      <td>11</td>\n",
       "      <td>15</td>\n",
       "      <td>30.116223</td>\n",
       "    </tr>\n",
       "  </tbody>\n",
       "</table>\n",
       "</div>"
      ],
      "text/plain": [
       "       datetime  wind_direction  wind_speed  sea_level_pressure  temperature  \\\n",
       "0  197809140300             160           2              1007.7           30   \n",
       "1  197810021500               0           0              1011.3           26   \n",
       "2  197810252100             360           9              1004.1           26   \n",
       "3  197810260000             360          21              1006.3           26   \n",
       "4  197811131500               0           0              1010.1           26   \n",
       "5  197811141500              40           2              1012.4           26   \n",
       "6  197811241500             180           2              1012.1           26   \n",
       "7  197811241800              40           2              1011.0           25   \n",
       "8  197811242100             360           3              1010.6           22   \n",
       "9  197811271500             220           2              1012.5           26   \n",
       "\n",
       "   visibility  humidity  cloud_pattern           date_time  year  month  time  \\\n",
       "0        15.6      0.75            3.0 1978-09-14 03:00:00  1978      9     3   \n",
       "1         6.2      0.94            4.0 1978-10-02 15:00:00  1978     10    15   \n",
       "2         6.2      0.80            3.0 1978-10-25 21:00:00  1978     10    21   \n",
       "3         6.2      0.80            4.0 1978-10-26 00:00:00  1978     10     0   \n",
       "4        11.2      0.88            3.0 1978-11-13 15:00:00  1978     11    15   \n",
       "5         5.0      0.75            2.0 1978-11-14 15:00:00  1978     11    15   \n",
       "6         6.2      0.55            3.0 1978-11-24 15:00:00  1978     11    15   \n",
       "7         3.1      0.63            2.0 1978-11-24 18:00:00  1978     11    18   \n",
       "8         3.1      0.77            2.0 1978-11-24 21:00:00  1978     11    21   \n",
       "9         5.0      0.50            2.0 1978-11-27 15:00:00  1978     11    15   \n",
       "\n",
       "        PRED  \n",
       "0  28.905448  \n",
       "1  25.159544  \n",
       "2  27.267918  \n",
       "3  29.358238  \n",
       "4  26.295413  \n",
       "5  27.183932  \n",
       "6  29.758200  \n",
       "7  28.167280  \n",
       "8  26.845197  \n",
       "9  30.116223  "
      ]
     },
     "execution_count": 61,
     "metadata": {},
     "output_type": "execute_result"
    }
   ],
   "source": [
    "df.head(10)"
   ]
  },
  {
   "cell_type": "code",
   "execution_count": 62,
   "metadata": {},
   "outputs": [
    {
     "data": {
      "text/plain": [
       "Text(0.5, 1.0, 'Temperature vs Predicted Temperature')"
      ]
     },
     "execution_count": 62,
     "metadata": {},
     "output_type": "execute_result"
    },
    {
     "data": {
      "image/png": "[encoded data removed]",
      "text/plain": [
       "<Figure size 720x576 with 1 Axes>"
      ]
     },
     "metadata": {},
     "output_type": "display_data"
    }
   ],
   "source": [
    "plt.figure(figsize=(10,8))\n",
    "\n",
    "\n",
    "plt.scatter(df[\"temperature\"], predictions)\n",
    "plt.plot([0, 50], [0, 50], '--go')\n",
    "plt.xlabel(\"Temperature: $Y_i$\")\n",
    "plt.ylabel(\"Predicted Temperature: $\\hat{Y}_i$\")\n",
    "plt.title(\"Temperature vs Predicted Temperature\")"
   ]
  },
  {
   "cell_type": "markdown",
   "metadata": {},
   "source": [
    "## PS 1.5 Mean Squared Error"
   ]
  },
  {
   "cell_type": "code",
   "execution_count": 63,
   "metadata": {},
   "outputs": [
    {
     "name": "stdout",
     "output_type": "stream",
     "text": [
      "PS 1.5 Mean Squared Error\n"
     ]
    },
    {
     "data": {
      "text/plain": [
       "2.5238325229288034"
      ]
     },
     "execution_count": 63,
     "metadata": {},
     "output_type": "execute_result"
    }
   ],
   "source": [
    "print(\"PS 1.5 Mean Squared Error\")\n",
    "mean_squared_error = np.mean((df[\"temperature\"] - linear_model.predict(X))**2)\n",
    "mean_squared_error"
   ]
  },
  {
   "cell_type": "markdown",
   "metadata": {},
   "source": [
    "## PS 1.6 R^2 score"
   ]
  },
  {
   "cell_type": "code",
   "execution_count": 64,
   "metadata": {},
   "outputs": [
    {
     "name": "stdout",
     "output_type": "stream",
     "text": [
      "PS 1.6 R^2 score\n"
     ]
    },
    {
     "data": {
      "text/plain": [
       "0.5189766230493539"
      ]
     },
     "execution_count": 64,
     "metadata": {},
     "output_type": "execute_result"
    }
   ],
   "source": [
    "print(\"PS 1.6 R^2 score\")\n",
    "linear_model.score(X, df[\"temperature\"])"
   ]
  },
  {
   "cell_type": "markdown",
   "metadata": {},
   "source": [
    "## PS 1.7 Identify if the model is a good model and why.\n",
    "\n",
    "&nbsp;&nbsp;&nbsp;&nbsp;&nbsp;&nbsp;The model lacks enough data to provide a substantial prediction. However, the model provides insights on what affects atmospheric temperature in relation to the dataset's variables. These model's calculations or computations can be compared against scientific theories and laws to verify the reliability of the model.  \n",
    "\n",
    "###### Combined Gas Law\n",
    "&nbsp;&nbsp;&nbsp;&nbsp;&nbsp;&nbsp;Combining three gas laws, the gas law dictates that pressure, volume, and temperature have a direct correlation to one another at a constant *n*. This is also the same foundation of the Ideal Gas Laws where it mathematically relates the pressure, volume, amount and temperature of a gas with the equation pressure x volume = moles x ideal gas constant x temperature; PV=nRT. The model does not have variables directly relating to these laws but it may explain how one variable in the dataset was strongly inversely related to temperature.\n",
    "\n",
    "###### Humidity & Visibility\n",
    "&nbsp;&nbsp;&nbsp;&nbsp;&nbsp;&nbsp;In simplest terms, humidity is the volume of water vapor around us. It is the cold sea breeze that we feel in the summer or the cold air at the end of the year. As a condensate, it directly relates to both temperature and pressure. As the temperature drops, the air gets colder and there will come a point that water vapor will condense into water. This is called a dew point and it is when temperatures get so low that humidity reaches a saturation point. \"The condensed water is called dew when it forms on a solid surface, or frost if it freezes. In the air, the condensed water is called either fog or a cloud, depending on its altitude when it forms.\" This also explains why visibility was the most positive correlation to temperature in this dataset.\n",
    "\n",
    "###### Conclusion\n",
    "&nbsp;&nbsp;&nbsp;&nbsp;&nbsp;&nbsp;As a prediction model this dataset does not give sufficient data to make accurate predictions. The variables are dependent on other data points that are not available in the dataset as well.\n",
    "\n",
    "Sources:\n",
    "Wikipedia <br/>\n",
    "\"Dew Point\". Glossary – NOAA's National Weather Service. 25 June 2009.<br/>\n",
    "John M. Wallace; Peter V. Hobbs (24 March 2006). Atmospheric Science: An Introductory Survey. Academic Press. <br/>\n",
    "Helmenstine, Anne Marie, Ph.D. \"The Combined Gas Law.\" ThoughtCo. https://www.thoughtco.com/definition-of-combined-gas-law-604936 (accessed March 28, 2021)."
   ]
  },
  {
   "cell_type": "markdown",
   "metadata": {},
   "source": [
    "# Markdown Syntax\n",
    "---\n",
    "# The largest heading\n",
    "## The second largest heading\n",
    "###### The smallest heading\n",
    "\n",
    "**This is bold text**\n",
    "\n",
    "*This text is italicized*\t\n",
    "\n",
    "~~This was mistaken text~~\n",
    "\n",
    "**This text is _extremely_ important**\n",
    "\n",
    "***All this text is important***\n",
    "\n",
    "Indentation:\n",
    "\n",
    "&nbsp;&nbsp;&nbsp;&nbsp;&nbsp;&nbsp;This will appear with six space characters in front of it\n",
    "\n",
    "Line/breaks:\n",
    "\n",
    "Line<br/>break\n",
    "\n",
    "Line&nbsp;break\n",
    "\n",
    "Line\\ break\n",
    "\n",
    "Quoting a text:\n",
    "\n",
    "> This is a quote\n",
    "\n",
    "quoting code:\n",
    "```\n",
    "this is an example of quoting code\n",
    "```\n",
    "\n",
    "highlighting code:\n",
    "```ruby\n",
    "require 'redcarpet'\n",
    "markdown = Redcarpet.new(\"Hello World!\")\n",
    "puts markdown.to_html\n",
    "```\n",
    "\n",
    "Insert a `link` to a line of text: [GitHub Pages](https://pages.github.com/).\n",
    "\n",
    "Insert a relative link within the repository: [Contribution guidelines for this project](docs/CONTRIBUTING.md)\n",
    "\n",
    "##### List examples:\n",
    "- George Washington\n",
    "- John Adams\n",
    "- Thomas Jefferson\n",
    "\n",
    "1. James Madison\n",
    "2. James Monroe\n",
    "3. John Quincy Adams\n",
    "\n",
    "1. First list item\n",
    "   - First nested list item\n",
    "     - Second nested list item\n",
    "     \n",
    "In this example, you could add a nested list item under the list item 100. First list item by indenting the nested list item a minimum of five spaces, since there are *five characters (100. )* before First list item.\n",
    "\n",
    "100. First list item\n",
    "     - First nested list item\n",
    "       - Second nested list item\n",
    "\n",
    "##### Task list example:\n",
    "- [x] Finish my changes\n",
    "- [ ] Push my commits to GitHub\n",
    "- [ ] Open a pull request\n",
    "\n",
    "##### Mentioning:\n",
    "@github/support What do you think about these updates?\n",
    "\n",
    "##### Using emoji:\n",
    "You can add emoji to your writing by typing :EMOJICODE:.\n",
    "```\n",
    "@octocat :+1: This PR looks great - it's ready to merge! :shipit:\n",
    "```\n",
    "@octocat :+1: This PR looks great - it's ready to merge! :shipit:\n",
    "\n",
    "##### Ignoring markdown formatting:\n",
    "Let's rename \\*our-new-project\\* to \\*our-old-project\\*.\n",
    "\n",
    "##### Creating a table:\n",
    "| First Header  | Second Header |\n",
    "| ------------- | ------------- |\n",
    "| Content Cell  | Content Cell  |\n",
    "| Content Cell  | Content Cell  |\n",
    "\n",
    "| Command | Description |\n",
    "| --- | :--- |\n",
    "| git status | List all new or modified files |\n",
    "| git diff | Show file differences that haven't been staged |\n",
    "\n",
    "| Command | Description |\n",
    "| --- | :--- |\n",
    "| `git status` | List all *new or modified* files |\n",
    "| `git diff` | Show file differences that **haven't been** staged |\n",
    "\n",
    "| Left-aligned | Center-aligned | Right-aligned |\n",
    "| :---         |     :---:      |          ---: |\n",
    "| git status   | git status     | git status    |\n",
    "| git diff     | git diff       | git diff      |\n",
    "\n"
   ]
  },
  {
   "cell_type": "code",
   "execution_count": null,
   "metadata": {},
   "outputs": [],
   "source": []
  },
  {
   "cell_type": "code",
   "execution_count": null,
   "metadata": {},
   "outputs": [],
   "source": []
  }
 ],
 "metadata": {
  "kernelspec": {
   "display_name": "Python 3",
   "language": "python",
   "name": "python3"
  },
  "language_info": {
   "codemirror_mode": {
    "name": "ipython",
    "version": 3
   },
   "file_extension": ".py",
   "mimetype": "text/x-python",
   "name": "python",
   "nbconvert_exporter": "python",
   "pygments_lexer": "ipython3",
   "version": "3.9.4"
  }
 },
 "nbformat": 4,
 "nbformat_minor": 2
}
